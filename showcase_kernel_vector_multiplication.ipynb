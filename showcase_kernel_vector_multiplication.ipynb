{
 "cells": [
  {
   "cell_type": "markdown",
   "metadata": {},
   "source": [
    "### **Fast Kernel-Vector Multiplications in High-Dimensional Feature Spaces Using the ANOVA Kernel in Python**"
   ]
  },
  {
   "cell_type": "markdown",
   "metadata": {},
   "source": [
    "#### **Problem Setting**\n",
    "\n",
    "For a given data set that is represented by $N$ data points $\\bf{x}_i \\in \\mathbb{R}^d$, $i = 1, \\dots, N$, with $d$ features, the *extended Gaussian ANOVA kernel* has the form\n",
    "$$\n",
    "K = \\left( \\kappa_{ij} \\right)_{i,j = 1}^{N} \\in \\mathbb{R}^{N \\times N}, \\quad \\kappa_{ij} = \\sum_{l=1}^P \\frac{1}{P} \\exp \\left( - \\frac{ \\| \\bf{x}_{i}^{\\mathcal{W}_l} - \\bf{x} _{j}^{\\mathcal{W}_l} \\|_2^2}{\\sigma^2} \\right),\n",
    "$$\n",
    "where $\\sigma$ is a shape parameter, $P$ is the number of kernels to combine and $\\mathcal{W}_l = \\{ w_1^l, w_2^l, w_3^l \\} \\in \\{ 1, \\dots, d \\}^3$ are the considered index sets, so that $\\bf{x}_i^{\\mathcal{W}_l}$ and $\\bf{x}_j^{\\mathcal{W}_l}$ are the data points restricted to the corresponding features.\n",
    "\n",
    "We use the NFFT-based fast summation scheme to approximate kernel-vector products $K p$, without ever explicitly computing the single kernel entries. By this, we nearly reach a linear scaling, while solving $K p$ directly is of quadratic computational complexity.\n",
    "\n",
    "In our Python code, the data points are stored as rows of a numpy array $X$ of shape $\\left( N, d \\right)$:"
   ]
  },
  {
   "cell_type": "code",
   "execution_count": 3,
   "metadata": {},
   "outputs": [],
   "source": [
    "import numpy as np\n",
    "\n",
    "# number of data points\n",
    "n = 1000\n",
    "# number of features\n",
    "d = 9\n",
    "\n",
    "X = np.random.randn(n, d)"
   ]
  },
  {
   "cell_type": "markdown",
   "metadata": {},
   "source": [
    "#### **Creating the class object for the kernel-vector multiplication**\n",
    "\n",
    "We set up vector multiplications with the *ANOVA kernel* with the `kernel_vector_multiplication` class. This class is meant to compare the standard multiplication with the NFFT-based fast summation.\n",
    "\n",
    "We leave all but the *sigma* parameter for the ANOVA kernel as their default values. See the source code for more details."
   ]
  },
  {
   "cell_type": "code",
   "execution_count": 4,
   "metadata": {},
   "outputs": [],
   "source": [
    "# import functions from extracted files\n",
    "from kernel_vector_multiplication import kernel_vector_multiplication\n",
    "\n",
    "# set up class object\n",
    "multiply = kernel_vector_multiplication(sigma = 100)"
   ]
  },
  {
   "cell_type": "markdown",
   "metadata": {},
   "source": [
    "#### **Compare standard multiplication with the NFFT-based approximation**\n",
    "\n",
    "Use `multiply.compare` to compute the exact and approximate results of the product with a vector and to display the runtimes and approximation error. By setting $n\\_runs > 1$, multiplications with several random vectors are run and the mean runtimes and errors are returned."
   ]
  },
  {
   "cell_type": "code",
   "execution_count": 5,
   "metadata": {},
   "outputs": [
    {
     "name": "stdout",
     "output_type": "stream",
     "text": [
      "Runtime Standard Multiplication: 0.06982533931732178\n",
      "Runtime Multiplication with NFFT: 0.039463138580322264\n",
      "Absolute Error: 4.4594785076488465e-05\n",
      "Relative Error: 2.9838317804426224e-06\n"
     ]
    }
   ],
   "source": [
    "# number of multiplications with random vector\n",
    "n_runs = 10\n",
    "\n",
    "# initialize lists for results\n",
    "list_time = []\n",
    "list_time_nfft = []\n",
    "list_abs_error = []\n",
    "list_rel_error = []\n",
    "\n",
    "for i in range(n_runs):\n",
    "    # list of n_runs random vectors\n",
    "    p = np.random.randn((X.shape[0]))\n",
    "\n",
    "    time_standard, time_nfft, abs_error, rel_error = multiply.compare_multiplication(X, p)\n",
    "\n",
    "    list_time.append(time_standard)\n",
    "    list_time_nfft.append(time_nfft)\n",
    "    list_abs_error.append(abs_error)\n",
    "    list_rel_error.append(rel_error)\n",
    "    \n",
    "print(\"Runtime Standard Multiplication:\", np.mean(list_time))\n",
    "print(\"Runtime Multiplication with NFFT:\", np.mean(list_time_nfft))\n",
    "print(\"Absolute Error:\", np.mean(list_abs_error))\n",
    "print(\"Relative Error:\", np.mean(list_rel_error))"
   ]
  }
 ],
 "metadata": {
  "kernelspec": {
   "display_name": "Python 3",
   "language": "python",
   "name": "python3"
  },
  "language_info": {
   "codemirror_mode": {
    "name": "ipython",
    "version": 3
   },
   "file_extension": ".py",
   "mimetype": "text/x-python",
   "name": "python",
   "nbconvert_exporter": "python",
   "pygments_lexer": "ipython3",
   "version": "3.8.5"
  }
 },
 "nbformat": 4,
 "nbformat_minor": 4
}
